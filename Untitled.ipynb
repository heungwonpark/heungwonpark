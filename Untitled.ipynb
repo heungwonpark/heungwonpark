{
 "cells": [
  {
   "cell_type": "code",
   "execution_count": 1,
   "metadata": {
    "collapsed": false
   },
   "outputs": [
    {
     "data": {
      "text/plain": [
       "['01_1.png', '01_2.png', '02_1.png', '03_1.png', '04_1.png']"
      ]
     },
     "execution_count": 1,
     "metadata": {},
     "output_type": "execute_result"
    }
   ],
   "source": [
    "listofimages = !ls img/\n",
    "listofimages"
   ]
  },
  {
   "cell_type": "code",
   "execution_count": 2,
   "metadata": {
    "collapsed": false
   },
   "outputs": [],
   "source": [
    "#listofimages = sorted(listofimages, key=lambda x: float(x.split('_')[0]))"
   ]
  },
  {
   "cell_type": "code",
   "execution_count": 3,
   "metadata": {
    "collapsed": false,
    "scrolled": false
   },
   "outputs": [
    {
     "name": "stdout",
     "output_type": "stream",
     "text": [
      "\t\t\t\t<section>\n",
      "\t\t\t\t\t<img src=\"img/01_1.png\"/>\n",
      "\t\t\t\t\t<aside class=\"notes\" data-markdown>\n",
      "\t\t\t\t\t</aside>\n",
      "\t\t\t\t</section>\n",
      "          \n",
      "\t\t\t\t<section>\n",
      "\t\t\t\t\t<img src=\"img/01_2.png\"/>\n",
      "\t\t\t\t\t<aside class=\"notes\" data-markdown>\n",
      "\t\t\t\t\t</aside>\n",
      "\t\t\t\t</section>\n",
      "          \n",
      "\t\t\t\t<section>\n",
      "\t\t\t\t\t<img src=\"img/02_1.png\"/>\n",
      "\t\t\t\t\t<aside class=\"notes\" data-markdown>\n",
      "\t\t\t\t\t</aside>\n",
      "\t\t\t\t</section>\n",
      "          \n",
      "\t\t\t\t<section>\n",
      "\t\t\t\t\t<img src=\"img/03_1.png\"/>\n",
      "\t\t\t\t\t<aside class=\"notes\" data-markdown>\n",
      "\t\t\t\t\t</aside>\n",
      "\t\t\t\t</section>\n",
      "          \n",
      "\t\t\t\t<section>\n",
      "\t\t\t\t\t<img src=\"img/04_1.png\"/>\n",
      "\t\t\t\t\t<aside class=\"notes\" data-markdown>\n",
      "\t\t\t\t\t</aside>\n",
      "\t\t\t\t</section>\n",
      "          \n"
     ]
    }
   ],
   "source": [
    "for img in listofimages:\n",
    "    print(\"\"\"\t\t\t\t<section>\n",
    "\t\t\t\t\t<img src=\\\"img/\"\"\" + img + \"\"\"\\\"/>\n",
    "\t\t\t\t\t<aside class=\"notes\" data-markdown>\n",
    "\t\t\t\t\t</aside>\n",
    "\t\t\t\t</section>\n",
    "          \"\"\")"
   ]
  }
 ],
 "metadata": {
  "kernelspec": {
   "display_name": "Python 2",
   "language": "python",
   "name": "python2"
  },
  "language_info": {
   "codemirror_mode": {
    "name": "ipython",
    "version": 2
   },
   "file_extension": ".py",
   "mimetype": "text/x-python",
   "name": "python",
   "nbconvert_exporter": "python",
   "pygments_lexer": "ipython2",
   "version": "2.7.6"
  }
 },
 "nbformat": 4,
 "nbformat_minor": 0
}
